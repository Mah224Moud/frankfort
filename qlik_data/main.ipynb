{
 "cells": [
  {
   "cell_type": "code",
   "execution_count": 22,
   "id": "ad4dce2e",
   "metadata": {},
   "outputs": [
    {
     "name": "stdout",
     "output_type": "stream",
     "text": [
      "Requirement already satisfied: openpyxl in /Users/mamoudou/Developer/Python/Internship/TimeTravel/venv/lib/python3.9/site-packages (3.1.5)\n",
      "Requirement already satisfied: et-xmlfile in /Users/mamoudou/Developer/Python/Internship/TimeTravel/venv/lib/python3.9/site-packages (from openpyxl) (2.0.0)\n"
     ]
    }
   ],
   "source": [
    "!pip install openpyxl\n"
   ]
  },
  {
   "cell_type": "code",
   "execution_count": 23,
   "id": "bcc5d221",
   "metadata": {},
   "outputs": [],
   "source": [
    "import uuid\n",
    "\n",
    "def short_uuid():\n",
    "    return uuid.uuid4().hex[:8]\n"
   ]
  },
  {
   "cell_type": "code",
   "execution_count": 24,
   "id": "42e5a4c4",
   "metadata": {},
   "outputs": [
    {
     "name": "stdout",
     "output_type": "stream",
     "text": [
      "  id_vendeur id_client      ville  longitude  latitude\n",
      "0       V001  3ce6e5ce       Nice    0.56686  44.95957\n",
      "1       V001  a9abf374       Nice   -0.14299  47.69357\n",
      "2       V001  341f6361       Nice    4.76778  48.90904\n",
      "3       V001  69adf0b9       Nice    3.08097  44.48281\n",
      "4       V001  1d45d7a8       Nice    3.98298  49.72683\n",
      "5       V001  01c7bfe3       Nice    0.56686  44.95957\n",
      "6       V001  204c13ff  Marseille    1.74668  47.34970\n",
      "7       V001  026d0564  Marseille    3.39314  47.59778\n",
      "8       V001  3b6038f9  Marseille    4.39330  48.70410\n",
      "9       V001  076e606b  Marseille   -0.31052  47.89899\n"
     ]
    }
   ],
   "source": [
    "import pandas as pd\n",
    "import ast\n",
    "\n",
    "df_vendeurs = pd.read_excel(\"vendeurs_coordonnees.xlsx\")\n",
    "\n",
    "# Supprimer les duplications de (id, ville)\n",
    "df_unique = df_vendeurs.drop_duplicates(subset=[\"id\", \"ville\"])\n",
    "\n",
    "# Liste pour stocker les clients\n",
    "clients_data = []\n",
    "\n",
    "# Boucle sur chaque combinaison unique vendeur + ville\n",
    "for _, row in df_unique.iterrows():\n",
    "    vendeur_id = row[\"id\"]\n",
    "    ville = row[\"ville\"]\n",
    "\n",
    "    try:\n",
    "        coords = ast.literal_eval(row[\"coordonnees\"])\n",
    "    except Exception:\n",
    "        continue  # Si erreur dans les coordonnées, on saute\n",
    "\n",
    "    try:\n",
    "        points = coords[0][0]\n",
    "        for i, (long, lat) in enumerate(points):\n",
    "            client_id = short_uuid()\n",
    "            clients_data.append({\n",
    "                \"id_vendeur\": vendeur_id,\n",
    "                \"id_client\": client_id,\n",
    "                \"ville\": ville,\n",
    "                \"longitude\": long,\n",
    "                \"latitude\": lat\n",
    "            })\n",
    "    except Exception:\n",
    "        continue  # Si mauvaise structure\n",
    "\n",
    "# Construction du DataFrame final\n",
    "df_clients = pd.DataFrame(clients_data)\n",
    "\n",
    "# Aperçu\n",
    "print(df_clients.head(10))\n",
    "\n",
    "# Optionnel : export CSV\n",
    "df_clients.to_csv(\"clients.csv\", index=False)\n"
   ]
  }
 ],
 "metadata": {
  "kernelspec": {
   "display_name": "venv",
   "language": "python",
   "name": "python3"
  },
  "language_info": {
   "codemirror_mode": {
    "name": "ipython",
    "version": 3
   },
   "file_extension": ".py",
   "mimetype": "text/x-python",
   "name": "python",
   "nbconvert_exporter": "python",
   "pygments_lexer": "ipython3",
   "version": "3.9.6"
  }
 },
 "nbformat": 4,
 "nbformat_minor": 5
}
