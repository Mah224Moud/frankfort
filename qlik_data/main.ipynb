{
 "cells": [
  {
   "cell_type": "code",
   "execution_count": 27,
   "id": "ad4dce2e",
   "metadata": {},
   "outputs": [
    {
     "name": "stdout",
     "output_type": "stream",
     "text": [
      "Requirement already satisfied: openpyxl in c:\\users\\pyhh0118\\appdata\\local\\packages\\pythonsoftwarefoundation.python.3.11_qbz5n2kfra8p0\\localcache\\local-packages\\python311\\site-packages (3.1.5)\n",
      "Requirement already satisfied: et-xmlfile in c:\\users\\pyhh0118\\appdata\\local\\packages\\pythonsoftwarefoundation.python.3.11_qbz5n2kfra8p0\\localcache\\local-packages\\python311\\site-packages (from openpyxl) (2.0.0)\n"
     ]
    }
   ],
   "source": [
    "!pip install openpyxl\n"
   ]
  },
  {
   "cell_type": "code",
   "execution_count": 28,
   "id": "bcc5d221",
   "metadata": {},
   "outputs": [],
   "source": [
    "import uuid\n",
    "\n",
    "def short_uuid():\n",
    "    return uuid.uuid4().hex[:8]\n"
   ]
  },
  {
   "cell_type": "code",
   "execution_count": 29,
   "id": "9e9d3f60",
   "metadata": {},
   "outputs": [],
   "source": [
    "import pandas as pd\n",
    "import ast\n",
    "import time as t\n",
    "from datetime import datetime, timedelta"
   ]
  },
  {
   "cell_type": "code",
   "execution_count": null,
   "id": "42e5a4c4",
   "metadata": {},
   "outputs": [
    {
     "name": "stdout",
     "output_type": "stream",
     "text": [
      "  id_vendeur id_client    ville  longitude  latitude  path_id  zone           time_stamp\n",
      "0   ADBO6530  0a55c03d  Orleans    2.00469  47.18607        1    60  2025-06-04 08:00:00\n",
      "1   ADBO6530  e91b7984  Orleans    2.03025  47.21715        1    60  2025-06-04 08:01:00\n",
      "2   ADBO6530  5eef3567  Orleans    1.95444  47.28639        1    60  2025-06-04 08:02:00\n",
      "3   ADBO6530  34b93626  Orleans    1.93905  47.28496        1    60  2025-06-04 08:03:00\n",
      "4   ADBO6530  351cd7e9  Orleans    1.87295  47.29238        1    60  2025-06-04 08:04:00\n",
      "5   ADBO6530  a11999a9  Orleans    1.86376  47.30760        1    60  2025-06-04 08:05:00\n",
      "6   ADBO6530  7f5c2932  Orleans    1.91772  47.33589        1    60  2025-06-04 08:06:00\n",
      "7   ADBO6530  6556a58e  Orleans    1.84975  47.37155        1    60  2025-06-04 08:07:00\n",
      "8   ADBO6530  9fecadd2  Orleans    1.84595  47.37786        1    60  2025-06-04 08:08:00\n",
      "9   ADBO6530  2992214e  Orleans    1.84058  47.40569        1    60  2025-06-04 08:09:00\n"
     ]
    }
   ],
   "source": [
    "\n",
    "\n",
    "df_vendeurs = pd.read_excel(\"vendeurs.xlsx\")\n",
    "\n",
    "# Supprimer les duplications de (id, ville)\n",
    "df_unique = df_vendeurs[~df_vendeurs.apply(lambda row: row.astype(str).str.contains(\"UUID\", case=False)).any(axis=1)]\n",
    "\n",
    "# Liste pour stocker les clients\n",
    "clients_data = []\n",
    "\n",
    "start_time = datetime(2025, 6, 4, 8, 0, 0) \n",
    "\n",
    "# Boucle sur chaque combinaison unique vendeur + ville\n",
    "path_id = 1\n",
    "for _, row in df_unique.iterrows():\n",
    "    vendeur_id = row[\"vendeur_id\"]\n",
    "    ville = row[\"vendeur_depart_lb\"]\n",
    "    zone = row[\"vendeur_zone_num\"]\n",
    "\n",
    "    try:\n",
    "        coords = ast.literal_eval(row[\"vendeur_zone_carto\"])\n",
    "    except Exception:\n",
    "        continue  # Si erreur dans les coordonnées, on saute\n",
    "\n",
    "    try:\n",
    "        points = coords[0][0]\n",
    "        current_time = start_time + timedelta(minutes=30 * (path_id - 1))\n",
    "\n",
    "        for i, (long, lat) in enumerate(points):\n",
    "            client_id = short_uuid()\n",
    "            clients_data.append({\n",
    "                \"id_vendeur\": vendeur_id,\n",
    "                \"id_client\": client_id,\n",
    "                \"ville\": ville,\n",
    "                \"longitude\": long,\n",
    "                \"latitude\": lat,\n",
    "                \"path_id\": path_id,\n",
    "                \"zone\": zone,\n",
    "                \"time_stamp\": current_time.strftime(\"%Y-%m-%d %H:%M:%S\")\n",
    "            })\n",
    "            current_time += timedelta(minutes=1)\n",
    "        path_id += 1\n",
    "    except Exception:\n",
    "        continue  # Si mauvaise structure\n",
    "\n",
    "# Construction du DataFrame final\n",
    "df_clients = pd.DataFrame(clients_data)\n",
    "\n",
    "# Aperçu\n",
    "print(df_clients.head(10).to_string())\n",
    "\n",
    "# Optionnel : export CSV\n",
    "df_clients.to_csv(\"clients.csv\", index=False)\n"
   ]
  }
 ],
 "metadata": {
  "kernelspec": {
   "display_name": "Python 3",
   "language": "python",
   "name": "python3"
  },
  "language_info": {
   "codemirror_mode": {
    "name": "ipython",
    "version": 3
   },
   "file_extension": ".py",
   "mimetype": "text/x-python",
   "name": "python",
   "nbconvert_exporter": "python",
   "pygments_lexer": "ipython3",
   "version": "3.11.9"
  }
 },
 "nbformat": 4,
 "nbformat_minor": 5
}
